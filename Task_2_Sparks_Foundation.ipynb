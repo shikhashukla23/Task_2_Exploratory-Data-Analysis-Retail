{
  "nbformat": 4,
  "nbformat_minor": 0,
  "metadata": {
    "colab": {
      "name": "Task 2 Sparks Foundation.ipynb",
      "provenance": [],
      "collapsed_sections": [],
      "authorship_tag": "ABX9TyMXVhPwO2aTmVFrT05Q5fuV",
      "include_colab_link": true
    },
    "kernelspec": {
      "name": "python3",
      "display_name": "Python 3"
    },
    "language_info": {
      "name": "python"
    }
  },
  "cells": [
    {
      "cell_type": "markdown",
      "metadata": {
        "id": "view-in-github",
        "colab_type": "text"
      },
      "source": [
        "<a href=\"https://colab.research.google.com/github/shikhashukla23/Task_2_Exploratory-Data-Analysis-Retail/blob/main/Task_2_Sparks_Foundation.ipynb\" target=\"_parent\"><img src=\"https://colab.research.google.com/assets/colab-badge.svg\" alt=\"Open In Colab\"/></a>"
      ]
    },
    {
      "cell_type": "markdown",
      "metadata": {
        "id": "Wv_QZjKxnAhL"
      },
      "source": [
        "# **The Spark Foundation**\n",
        "# **Data Science & Business Analytics Internship June-2021**\n",
        "# **Task 2 :- Exploratory Data Analysis - Retail**\n",
        "we analyze the USA sample dataset for superstores To find out the weak areas where we can work to make more profit\n",
        "\n",
        "# **Author: Shikha Shukla**\n",
        "\n"
      ]
    },
    {
      "cell_type": "code",
      "metadata": {
        "id": "5bZKQRijel2a"
      },
      "source": [
        "# Import Libraries\n",
        "import pandas as pd\n",
        "import numpy as np\n",
        "import matplotlib.pyplot as plt\n",
        "import seaborn as sns"
      ],
      "execution_count": null,
      "outputs": []
    },
    {
      "cell_type": "code",
      "metadata": {
        "id": "vT3g2WgceqJ8"
      },
      "source": [
        "store_df= pd.read_csv('SampleSuperstore.csv')"
      ],
      "execution_count": null,
      "outputs": []
    },
    {
      "cell_type": "code",
      "metadata": {
        "colab": {
          "base_uri": "https://localhost:8080/",
          "height": 326
        },
        "id": "90PvteM5RDA9",
        "outputId": "357a582a-b652-49cb-c5a6-3e6d47289d6e"
      },
      "source": [
        "store_df.head()"
      ],
      "execution_count": null,
      "outputs": [
        {
          "output_type": "execute_result",
          "data": {
            "text/html": [
              "<div>\n",
              "<style scoped>\n",
              "    .dataframe tbody tr th:only-of-type {\n",
              "        vertical-align: middle;\n",
              "    }\n",
              "\n",
              "    .dataframe tbody tr th {\n",
              "        vertical-align: top;\n",
              "    }\n",
              "\n",
              "    .dataframe thead th {\n",
              "        text-align: right;\n",
              "    }\n",
              "</style>\n",
              "<table border=\"1\" class=\"dataframe\">\n",
              "  <thead>\n",
              "    <tr style=\"text-align: right;\">\n",
              "      <th></th>\n",
              "      <th>Ship Mode</th>\n",
              "      <th>Segment</th>\n",
              "      <th>Country</th>\n",
              "      <th>City</th>\n",
              "      <th>State</th>\n",
              "      <th>Postal Code</th>\n",
              "      <th>Region</th>\n",
              "      <th>Category</th>\n",
              "      <th>Sub-Category</th>\n",
              "      <th>Sales</th>\n",
              "      <th>Quantity</th>\n",
              "      <th>Discount</th>\n",
              "      <th>Profit</th>\n",
              "    </tr>\n",
              "  </thead>\n",
              "  <tbody>\n",
              "    <tr>\n",
              "      <th>0</th>\n",
              "      <td>Second Class</td>\n",
              "      <td>Consumer</td>\n",
              "      <td>United States</td>\n",
              "      <td>Henderson</td>\n",
              "      <td>Kentucky</td>\n",
              "      <td>42420</td>\n",
              "      <td>South</td>\n",
              "      <td>Furniture</td>\n",
              "      <td>Bookcases</td>\n",
              "      <td>261.9600</td>\n",
              "      <td>2</td>\n",
              "      <td>0.00</td>\n",
              "      <td>41.9136</td>\n",
              "    </tr>\n",
              "    <tr>\n",
              "      <th>1</th>\n",
              "      <td>Second Class</td>\n",
              "      <td>Consumer</td>\n",
              "      <td>United States</td>\n",
              "      <td>Henderson</td>\n",
              "      <td>Kentucky</td>\n",
              "      <td>42420</td>\n",
              "      <td>South</td>\n",
              "      <td>Furniture</td>\n",
              "      <td>Chairs</td>\n",
              "      <td>731.9400</td>\n",
              "      <td>3</td>\n",
              "      <td>0.00</td>\n",
              "      <td>219.5820</td>\n",
              "    </tr>\n",
              "    <tr>\n",
              "      <th>2</th>\n",
              "      <td>Second Class</td>\n",
              "      <td>Corporate</td>\n",
              "      <td>United States</td>\n",
              "      <td>Los Angeles</td>\n",
              "      <td>California</td>\n",
              "      <td>90036</td>\n",
              "      <td>West</td>\n",
              "      <td>Office Supplies</td>\n",
              "      <td>Labels</td>\n",
              "      <td>14.6200</td>\n",
              "      <td>2</td>\n",
              "      <td>0.00</td>\n",
              "      <td>6.8714</td>\n",
              "    </tr>\n",
              "    <tr>\n",
              "      <th>3</th>\n",
              "      <td>Standard Class</td>\n",
              "      <td>Consumer</td>\n",
              "      <td>United States</td>\n",
              "      <td>Fort Lauderdale</td>\n",
              "      <td>Florida</td>\n",
              "      <td>33311</td>\n",
              "      <td>South</td>\n",
              "      <td>Furniture</td>\n",
              "      <td>Tables</td>\n",
              "      <td>957.5775</td>\n",
              "      <td>5</td>\n",
              "      <td>0.45</td>\n",
              "      <td>-383.0310</td>\n",
              "    </tr>\n",
              "    <tr>\n",
              "      <th>4</th>\n",
              "      <td>Standard Class</td>\n",
              "      <td>Consumer</td>\n",
              "      <td>United States</td>\n",
              "      <td>Fort Lauderdale</td>\n",
              "      <td>Florida</td>\n",
              "      <td>33311</td>\n",
              "      <td>South</td>\n",
              "      <td>Office Supplies</td>\n",
              "      <td>Storage</td>\n",
              "      <td>22.3680</td>\n",
              "      <td>2</td>\n",
              "      <td>0.20</td>\n",
              "      <td>2.5164</td>\n",
              "    </tr>\n",
              "  </tbody>\n",
              "</table>\n",
              "</div>"
            ],
            "text/plain": [
              "        Ship Mode    Segment        Country  ... Quantity Discount    Profit\n",
              "0    Second Class   Consumer  United States  ...        2     0.00   41.9136\n",
              "1    Second Class   Consumer  United States  ...        3     0.00  219.5820\n",
              "2    Second Class  Corporate  United States  ...        2     0.00    6.8714\n",
              "3  Standard Class   Consumer  United States  ...        5     0.45 -383.0310\n",
              "4  Standard Class   Consumer  United States  ...        2     0.20    2.5164\n",
              "\n",
              "[5 rows x 13 columns]"
            ]
          },
          "metadata": {
            "tags": []
          },
          "execution_count": 4
        }
      ]
    },
    {
      "cell_type": "code",
      "metadata": {
        "colab": {
          "base_uri": "https://localhost:8080/",
          "height": 326
        },
        "id": "2htZLiJkcOnO",
        "outputId": "5a04aebf-3c1b-4f32-c9ea-a5daa4fb25c1"
      },
      "source": [
        "store_df.tail()"
      ],
      "execution_count": null,
      "outputs": [
        {
          "output_type": "execute_result",
          "data": {
            "text/html": [
              "<div>\n",
              "<style scoped>\n",
              "    .dataframe tbody tr th:only-of-type {\n",
              "        vertical-align: middle;\n",
              "    }\n",
              "\n",
              "    .dataframe tbody tr th {\n",
              "        vertical-align: top;\n",
              "    }\n",
              "\n",
              "    .dataframe thead th {\n",
              "        text-align: right;\n",
              "    }\n",
              "</style>\n",
              "<table border=\"1\" class=\"dataframe\">\n",
              "  <thead>\n",
              "    <tr style=\"text-align: right;\">\n",
              "      <th></th>\n",
              "      <th>Ship Mode</th>\n",
              "      <th>Segment</th>\n",
              "      <th>Country</th>\n",
              "      <th>City</th>\n",
              "      <th>State</th>\n",
              "      <th>Postal Code</th>\n",
              "      <th>Region</th>\n",
              "      <th>Category</th>\n",
              "      <th>Sub-Category</th>\n",
              "      <th>Sales</th>\n",
              "      <th>Quantity</th>\n",
              "      <th>Discount</th>\n",
              "      <th>Profit</th>\n",
              "    </tr>\n",
              "  </thead>\n",
              "  <tbody>\n",
              "    <tr>\n",
              "      <th>9989</th>\n",
              "      <td>Second Class</td>\n",
              "      <td>Consumer</td>\n",
              "      <td>United States</td>\n",
              "      <td>Miami</td>\n",
              "      <td>Florida</td>\n",
              "      <td>33180</td>\n",
              "      <td>South</td>\n",
              "      <td>Furniture</td>\n",
              "      <td>Furnishings</td>\n",
              "      <td>25.248</td>\n",
              "      <td>3</td>\n",
              "      <td>0.2</td>\n",
              "      <td>4.1028</td>\n",
              "    </tr>\n",
              "    <tr>\n",
              "      <th>9990</th>\n",
              "      <td>Standard Class</td>\n",
              "      <td>Consumer</td>\n",
              "      <td>United States</td>\n",
              "      <td>Costa Mesa</td>\n",
              "      <td>California</td>\n",
              "      <td>92627</td>\n",
              "      <td>West</td>\n",
              "      <td>Furniture</td>\n",
              "      <td>Furnishings</td>\n",
              "      <td>91.960</td>\n",
              "      <td>2</td>\n",
              "      <td>0.0</td>\n",
              "      <td>15.6332</td>\n",
              "    </tr>\n",
              "    <tr>\n",
              "      <th>9991</th>\n",
              "      <td>Standard Class</td>\n",
              "      <td>Consumer</td>\n",
              "      <td>United States</td>\n",
              "      <td>Costa Mesa</td>\n",
              "      <td>California</td>\n",
              "      <td>92627</td>\n",
              "      <td>West</td>\n",
              "      <td>Technology</td>\n",
              "      <td>Phones</td>\n",
              "      <td>258.576</td>\n",
              "      <td>2</td>\n",
              "      <td>0.2</td>\n",
              "      <td>19.3932</td>\n",
              "    </tr>\n",
              "    <tr>\n",
              "      <th>9992</th>\n",
              "      <td>Standard Class</td>\n",
              "      <td>Consumer</td>\n",
              "      <td>United States</td>\n",
              "      <td>Costa Mesa</td>\n",
              "      <td>California</td>\n",
              "      <td>92627</td>\n",
              "      <td>West</td>\n",
              "      <td>Office Supplies</td>\n",
              "      <td>Paper</td>\n",
              "      <td>29.600</td>\n",
              "      <td>4</td>\n",
              "      <td>0.0</td>\n",
              "      <td>13.3200</td>\n",
              "    </tr>\n",
              "    <tr>\n",
              "      <th>9993</th>\n",
              "      <td>Second Class</td>\n",
              "      <td>Consumer</td>\n",
              "      <td>United States</td>\n",
              "      <td>Westminster</td>\n",
              "      <td>California</td>\n",
              "      <td>92683</td>\n",
              "      <td>West</td>\n",
              "      <td>Office Supplies</td>\n",
              "      <td>Appliances</td>\n",
              "      <td>243.160</td>\n",
              "      <td>2</td>\n",
              "      <td>0.0</td>\n",
              "      <td>72.9480</td>\n",
              "    </tr>\n",
              "  </tbody>\n",
              "</table>\n",
              "</div>"
            ],
            "text/plain": [
              "           Ship Mode   Segment        Country  ... Quantity Discount   Profit\n",
              "9989    Second Class  Consumer  United States  ...        3      0.2   4.1028\n",
              "9990  Standard Class  Consumer  United States  ...        2      0.0  15.6332\n",
              "9991  Standard Class  Consumer  United States  ...        2      0.2  19.3932\n",
              "9992  Standard Class  Consumer  United States  ...        4      0.0  13.3200\n",
              "9993    Second Class  Consumer  United States  ...        2      0.0  72.9480\n",
              "\n",
              "[5 rows x 13 columns]"
            ]
          },
          "metadata": {
            "tags": []
          },
          "execution_count": 19
        }
      ]
    },
    {
      "cell_type": "code",
      "metadata": {
        "colab": {
          "base_uri": "https://localhost:8080/"
        },
        "id": "6tZYoqruRxa-",
        "outputId": "3177355b-f1c0-445a-f4eb-0d7fdbe9db9d"
      },
      "source": [
        "store_df.shape"
      ],
      "execution_count": null,
      "outputs": [
        {
          "output_type": "execute_result",
          "data": {
            "text/plain": [
              "(9994, 13)"
            ]
          },
          "metadata": {
            "tags": []
          },
          "execution_count": 6
        }
      ]
    },
    {
      "cell_type": "code",
      "metadata": {
        "colab": {
          "base_uri": "https://localhost:8080/"
        },
        "id": "RjqJn-bMSDwh",
        "outputId": "241c6793-2a1e-4e90-885d-e71c5c50842b"
      },
      "source": [
        "store_df.info()"
      ],
      "execution_count": null,
      "outputs": [
        {
          "output_type": "stream",
          "text": [
            "<class 'pandas.core.frame.DataFrame'>\n",
            "RangeIndex: 9994 entries, 0 to 9993\n",
            "Data columns (total 13 columns):\n",
            " #   Column        Non-Null Count  Dtype  \n",
            "---  ------        --------------  -----  \n",
            " 0   Ship Mode     9994 non-null   object \n",
            " 1   Segment       9994 non-null   object \n",
            " 2   Country       9994 non-null   object \n",
            " 3   City          9994 non-null   object \n",
            " 4   State         9994 non-null   object \n",
            " 5   Postal Code   9994 non-null   int64  \n",
            " 6   Region        9994 non-null   object \n",
            " 7   Category      9994 non-null   object \n",
            " 8   Sub-Category  9994 non-null   object \n",
            " 9   Sales         9994 non-null   float64\n",
            " 10  Quantity      9994 non-null   int64  \n",
            " 11  Discount      9994 non-null   float64\n",
            " 12  Profit        9994 non-null   float64\n",
            "dtypes: float64(3), int64(2), object(8)\n",
            "memory usage: 1015.1+ KB\n"
          ],
          "name": "stdout"
        }
      ]
    },
    {
      "cell_type": "code",
      "metadata": {
        "colab": {
          "base_uri": "https://localhost:8080/",
          "height": 297
        },
        "id": "jRV8fUGucdED",
        "outputId": "dc73a163-bcd0-426c-9263-1b4e03a4661d"
      },
      "source": [
        "store_df.describe()"
      ],
      "execution_count": null,
      "outputs": [
        {
          "output_type": "execute_result",
          "data": {
            "text/html": [
              "<div>\n",
              "<style scoped>\n",
              "    .dataframe tbody tr th:only-of-type {\n",
              "        vertical-align: middle;\n",
              "    }\n",
              "\n",
              "    .dataframe tbody tr th {\n",
              "        vertical-align: top;\n",
              "    }\n",
              "\n",
              "    .dataframe thead th {\n",
              "        text-align: right;\n",
              "    }\n",
              "</style>\n",
              "<table border=\"1\" class=\"dataframe\">\n",
              "  <thead>\n",
              "    <tr style=\"text-align: right;\">\n",
              "      <th></th>\n",
              "      <th>Postal Code</th>\n",
              "      <th>Sales</th>\n",
              "      <th>Quantity</th>\n",
              "      <th>Discount</th>\n",
              "      <th>Profit</th>\n",
              "    </tr>\n",
              "  </thead>\n",
              "  <tbody>\n",
              "    <tr>\n",
              "      <th>count</th>\n",
              "      <td>9977.000000</td>\n",
              "      <td>9977.000000</td>\n",
              "      <td>9977.000000</td>\n",
              "      <td>9977.000000</td>\n",
              "      <td>9977.00000</td>\n",
              "    </tr>\n",
              "    <tr>\n",
              "      <th>mean</th>\n",
              "      <td>55154.964117</td>\n",
              "      <td>230.148902</td>\n",
              "      <td>3.790719</td>\n",
              "      <td>0.156278</td>\n",
              "      <td>28.69013</td>\n",
              "    </tr>\n",
              "    <tr>\n",
              "      <th>std</th>\n",
              "      <td>32058.266816</td>\n",
              "      <td>623.721409</td>\n",
              "      <td>2.226657</td>\n",
              "      <td>0.206455</td>\n",
              "      <td>234.45784</td>\n",
              "    </tr>\n",
              "    <tr>\n",
              "      <th>min</th>\n",
              "      <td>1040.000000</td>\n",
              "      <td>0.444000</td>\n",
              "      <td>1.000000</td>\n",
              "      <td>0.000000</td>\n",
              "      <td>-6599.97800</td>\n",
              "    </tr>\n",
              "    <tr>\n",
              "      <th>25%</th>\n",
              "      <td>23223.000000</td>\n",
              "      <td>17.300000</td>\n",
              "      <td>2.000000</td>\n",
              "      <td>0.000000</td>\n",
              "      <td>1.72620</td>\n",
              "    </tr>\n",
              "    <tr>\n",
              "      <th>50%</th>\n",
              "      <td>55901.000000</td>\n",
              "      <td>54.816000</td>\n",
              "      <td>3.000000</td>\n",
              "      <td>0.200000</td>\n",
              "      <td>8.67100</td>\n",
              "    </tr>\n",
              "    <tr>\n",
              "      <th>75%</th>\n",
              "      <td>90008.000000</td>\n",
              "      <td>209.970000</td>\n",
              "      <td>5.000000</td>\n",
              "      <td>0.200000</td>\n",
              "      <td>29.37200</td>\n",
              "    </tr>\n",
              "    <tr>\n",
              "      <th>max</th>\n",
              "      <td>99301.000000</td>\n",
              "      <td>22638.480000</td>\n",
              "      <td>14.000000</td>\n",
              "      <td>0.800000</td>\n",
              "      <td>8399.97600</td>\n",
              "    </tr>\n",
              "  </tbody>\n",
              "</table>\n",
              "</div>"
            ],
            "text/plain": [
              "        Postal Code         Sales     Quantity     Discount      Profit\n",
              "count   9977.000000   9977.000000  9977.000000  9977.000000  9977.00000\n",
              "mean   55154.964117    230.148902     3.790719     0.156278    28.69013\n",
              "std    32058.266816    623.721409     2.226657     0.206455   234.45784\n",
              "min     1040.000000      0.444000     1.000000     0.000000 -6599.97800\n",
              "25%    23223.000000     17.300000     2.000000     0.000000     1.72620\n",
              "50%    55901.000000     54.816000     3.000000     0.200000     8.67100\n",
              "75%    90008.000000    209.970000     5.000000     0.200000    29.37200\n",
              "max    99301.000000  22638.480000    14.000000     0.800000  8399.97600"
            ]
          },
          "metadata": {
            "tags": []
          },
          "execution_count": 20
        }
      ]
    },
    {
      "cell_type": "code",
      "metadata": {
        "colab": {
          "base_uri": "https://localhost:8080/"
        },
        "id": "UVHg90cwTIzZ",
        "outputId": "b9f24bdb-f6ce-40a2-eb3e-4760943de8bc"
      },
      "source": [
        "#Check null values\n",
        "store_df.isnull().sum()"
      ],
      "execution_count": null,
      "outputs": [
        {
          "output_type": "execute_result",
          "data": {
            "text/plain": [
              "Ship Mode       0\n",
              "Segment         0\n",
              "Country         0\n",
              "City            0\n",
              "State           0\n",
              "Postal Code     0\n",
              "Region          0\n",
              "Category        0\n",
              "Sub-Category    0\n",
              "Sales           0\n",
              "Quantity        0\n",
              "Discount        0\n",
              "Profit          0\n",
              "dtype: int64"
            ]
          },
          "metadata": {
            "tags": []
          },
          "execution_count": 9
        }
      ]
    },
    {
      "cell_type": "code",
      "metadata": {
        "colab": {
          "base_uri": "https://localhost:8080/"
        },
        "id": "mJP9DfOZT5Tq",
        "outputId": "631fa314-15a2-4b7a-a62c-57449e644b51"
      },
      "source": [
        "#Checking duplicate values\n",
        "store_df.duplicated().sum()"
      ],
      "execution_count": null,
      "outputs": [
        {
          "output_type": "execute_result",
          "data": {
            "text/plain": [
              "17"
            ]
          },
          "metadata": {
            "tags": []
          },
          "execution_count": 10
        }
      ]
    },
    {
      "cell_type": "code",
      "metadata": {
        "colab": {
          "base_uri": "https://localhost:8080/",
          "height": 902
        },
        "id": "3RLDNPUHUit1",
        "outputId": "ada85655-7427-441e-9314-573eca27e0a6"
      },
      "source": [
        "duplicate =store_df.duplicated()\n",
        "store_df[duplicate]"
      ],
      "execution_count": null,
      "outputs": [
        {
          "output_type": "execute_result",
          "data": {
            "text/html": [
              "<div>\n",
              "<style scoped>\n",
              "    .dataframe tbody tr th:only-of-type {\n",
              "        vertical-align: middle;\n",
              "    }\n",
              "\n",
              "    .dataframe tbody tr th {\n",
              "        vertical-align: top;\n",
              "    }\n",
              "\n",
              "    .dataframe thead th {\n",
              "        text-align: right;\n",
              "    }\n",
              "</style>\n",
              "<table border=\"1\" class=\"dataframe\">\n",
              "  <thead>\n",
              "    <tr style=\"text-align: right;\">\n",
              "      <th></th>\n",
              "      <th>Ship Mode</th>\n",
              "      <th>Segment</th>\n",
              "      <th>Country</th>\n",
              "      <th>City</th>\n",
              "      <th>State</th>\n",
              "      <th>Postal Code</th>\n",
              "      <th>Region</th>\n",
              "      <th>Category</th>\n",
              "      <th>Sub-Category</th>\n",
              "      <th>Sales</th>\n",
              "      <th>Quantity</th>\n",
              "      <th>Discount</th>\n",
              "      <th>Profit</th>\n",
              "    </tr>\n",
              "  </thead>\n",
              "  <tbody>\n",
              "    <tr>\n",
              "      <th>950</th>\n",
              "      <td>Standard Class</td>\n",
              "      <td>Home Office</td>\n",
              "      <td>United States</td>\n",
              "      <td>Philadelphia</td>\n",
              "      <td>Pennsylvania</td>\n",
              "      <td>19120</td>\n",
              "      <td>East</td>\n",
              "      <td>Office Supplies</td>\n",
              "      <td>Paper</td>\n",
              "      <td>15.552</td>\n",
              "      <td>3</td>\n",
              "      <td>0.2</td>\n",
              "      <td>5.4432</td>\n",
              "    </tr>\n",
              "    <tr>\n",
              "      <th>3406</th>\n",
              "      <td>Standard Class</td>\n",
              "      <td>Home Office</td>\n",
              "      <td>United States</td>\n",
              "      <td>Columbus</td>\n",
              "      <td>Ohio</td>\n",
              "      <td>43229</td>\n",
              "      <td>East</td>\n",
              "      <td>Furniture</td>\n",
              "      <td>Chairs</td>\n",
              "      <td>281.372</td>\n",
              "      <td>2</td>\n",
              "      <td>0.3</td>\n",
              "      <td>-12.0588</td>\n",
              "    </tr>\n",
              "    <tr>\n",
              "      <th>3670</th>\n",
              "      <td>Standard Class</td>\n",
              "      <td>Consumer</td>\n",
              "      <td>United States</td>\n",
              "      <td>Salem</td>\n",
              "      <td>Oregon</td>\n",
              "      <td>97301</td>\n",
              "      <td>West</td>\n",
              "      <td>Office Supplies</td>\n",
              "      <td>Paper</td>\n",
              "      <td>10.368</td>\n",
              "      <td>2</td>\n",
              "      <td>0.2</td>\n",
              "      <td>3.6288</td>\n",
              "    </tr>\n",
              "    <tr>\n",
              "      <th>4117</th>\n",
              "      <td>Standard Class</td>\n",
              "      <td>Consumer</td>\n",
              "      <td>United States</td>\n",
              "      <td>Los Angeles</td>\n",
              "      <td>California</td>\n",
              "      <td>90036</td>\n",
              "      <td>West</td>\n",
              "      <td>Office Supplies</td>\n",
              "      <td>Paper</td>\n",
              "      <td>19.440</td>\n",
              "      <td>3</td>\n",
              "      <td>0.0</td>\n",
              "      <td>9.3312</td>\n",
              "    </tr>\n",
              "    <tr>\n",
              "      <th>4553</th>\n",
              "      <td>Standard Class</td>\n",
              "      <td>Consumer</td>\n",
              "      <td>United States</td>\n",
              "      <td>San Francisco</td>\n",
              "      <td>California</td>\n",
              "      <td>94122</td>\n",
              "      <td>West</td>\n",
              "      <td>Office Supplies</td>\n",
              "      <td>Paper</td>\n",
              "      <td>12.840</td>\n",
              "      <td>3</td>\n",
              "      <td>0.0</td>\n",
              "      <td>5.7780</td>\n",
              "    </tr>\n",
              "    <tr>\n",
              "      <th>5905</th>\n",
              "      <td>Same Day</td>\n",
              "      <td>Home Office</td>\n",
              "      <td>United States</td>\n",
              "      <td>San Francisco</td>\n",
              "      <td>California</td>\n",
              "      <td>94122</td>\n",
              "      <td>West</td>\n",
              "      <td>Office Supplies</td>\n",
              "      <td>Labels</td>\n",
              "      <td>41.400</td>\n",
              "      <td>4</td>\n",
              "      <td>0.0</td>\n",
              "      <td>19.8720</td>\n",
              "    </tr>\n",
              "    <tr>\n",
              "      <th>6146</th>\n",
              "      <td>Standard Class</td>\n",
              "      <td>Corporate</td>\n",
              "      <td>United States</td>\n",
              "      <td>San Francisco</td>\n",
              "      <td>California</td>\n",
              "      <td>94122</td>\n",
              "      <td>West</td>\n",
              "      <td>Office Supplies</td>\n",
              "      <td>Art</td>\n",
              "      <td>11.760</td>\n",
              "      <td>4</td>\n",
              "      <td>0.0</td>\n",
              "      <td>3.1752</td>\n",
              "    </tr>\n",
              "    <tr>\n",
              "      <th>6334</th>\n",
              "      <td>Standard Class</td>\n",
              "      <td>Consumer</td>\n",
              "      <td>United States</td>\n",
              "      <td>New York City</td>\n",
              "      <td>New York</td>\n",
              "      <td>10011</td>\n",
              "      <td>East</td>\n",
              "      <td>Office Supplies</td>\n",
              "      <td>Paper</td>\n",
              "      <td>49.120</td>\n",
              "      <td>4</td>\n",
              "      <td>0.0</td>\n",
              "      <td>23.0864</td>\n",
              "    </tr>\n",
              "    <tr>\n",
              "      <th>6357</th>\n",
              "      <td>Standard Class</td>\n",
              "      <td>Corporate</td>\n",
              "      <td>United States</td>\n",
              "      <td>Seattle</td>\n",
              "      <td>Washington</td>\n",
              "      <td>98103</td>\n",
              "      <td>West</td>\n",
              "      <td>Office Supplies</td>\n",
              "      <td>Paper</td>\n",
              "      <td>25.920</td>\n",
              "      <td>4</td>\n",
              "      <td>0.0</td>\n",
              "      <td>12.4416</td>\n",
              "    </tr>\n",
              "    <tr>\n",
              "      <th>7608</th>\n",
              "      <td>Standard Class</td>\n",
              "      <td>Consumer</td>\n",
              "      <td>United States</td>\n",
              "      <td>San Francisco</td>\n",
              "      <td>California</td>\n",
              "      <td>94122</td>\n",
              "      <td>West</td>\n",
              "      <td>Office Supplies</td>\n",
              "      <td>Paper</td>\n",
              "      <td>25.920</td>\n",
              "      <td>4</td>\n",
              "      <td>0.0</td>\n",
              "      <td>12.4416</td>\n",
              "    </tr>\n",
              "    <tr>\n",
              "      <th>7735</th>\n",
              "      <td>Standard Class</td>\n",
              "      <td>Corporate</td>\n",
              "      <td>United States</td>\n",
              "      <td>Seattle</td>\n",
              "      <td>Washington</td>\n",
              "      <td>98105</td>\n",
              "      <td>West</td>\n",
              "      <td>Office Supplies</td>\n",
              "      <td>Paper</td>\n",
              "      <td>19.440</td>\n",
              "      <td>3</td>\n",
              "      <td>0.0</td>\n",
              "      <td>9.3312</td>\n",
              "    </tr>\n",
              "    <tr>\n",
              "      <th>7759</th>\n",
              "      <td>Standard Class</td>\n",
              "      <td>Corporate</td>\n",
              "      <td>United States</td>\n",
              "      <td>Houston</td>\n",
              "      <td>Texas</td>\n",
              "      <td>77041</td>\n",
              "      <td>Central</td>\n",
              "      <td>Office Supplies</td>\n",
              "      <td>Paper</td>\n",
              "      <td>15.552</td>\n",
              "      <td>3</td>\n",
              "      <td>0.2</td>\n",
              "      <td>5.4432</td>\n",
              "    </tr>\n",
              "    <tr>\n",
              "      <th>8032</th>\n",
              "      <td>First Class</td>\n",
              "      <td>Consumer</td>\n",
              "      <td>United States</td>\n",
              "      <td>Houston</td>\n",
              "      <td>Texas</td>\n",
              "      <td>77041</td>\n",
              "      <td>Central</td>\n",
              "      <td>Office Supplies</td>\n",
              "      <td>Paper</td>\n",
              "      <td>47.952</td>\n",
              "      <td>3</td>\n",
              "      <td>0.2</td>\n",
              "      <td>16.1838</td>\n",
              "    </tr>\n",
              "    <tr>\n",
              "      <th>8095</th>\n",
              "      <td>Second Class</td>\n",
              "      <td>Consumer</td>\n",
              "      <td>United States</td>\n",
              "      <td>Seattle</td>\n",
              "      <td>Washington</td>\n",
              "      <td>98115</td>\n",
              "      <td>West</td>\n",
              "      <td>Office Supplies</td>\n",
              "      <td>Paper</td>\n",
              "      <td>12.960</td>\n",
              "      <td>2</td>\n",
              "      <td>0.0</td>\n",
              "      <td>6.2208</td>\n",
              "    </tr>\n",
              "    <tr>\n",
              "      <th>9262</th>\n",
              "      <td>Standard Class</td>\n",
              "      <td>Consumer</td>\n",
              "      <td>United States</td>\n",
              "      <td>Detroit</td>\n",
              "      <td>Michigan</td>\n",
              "      <td>48227</td>\n",
              "      <td>Central</td>\n",
              "      <td>Furniture</td>\n",
              "      <td>Chairs</td>\n",
              "      <td>389.970</td>\n",
              "      <td>3</td>\n",
              "      <td>0.0</td>\n",
              "      <td>35.0973</td>\n",
              "    </tr>\n",
              "    <tr>\n",
              "      <th>9363</th>\n",
              "      <td>Standard Class</td>\n",
              "      <td>Home Office</td>\n",
              "      <td>United States</td>\n",
              "      <td>Seattle</td>\n",
              "      <td>Washington</td>\n",
              "      <td>98105</td>\n",
              "      <td>West</td>\n",
              "      <td>Furniture</td>\n",
              "      <td>Furnishings</td>\n",
              "      <td>22.140</td>\n",
              "      <td>3</td>\n",
              "      <td>0.0</td>\n",
              "      <td>6.4206</td>\n",
              "    </tr>\n",
              "    <tr>\n",
              "      <th>9477</th>\n",
              "      <td>Second Class</td>\n",
              "      <td>Corporate</td>\n",
              "      <td>United States</td>\n",
              "      <td>Chicago</td>\n",
              "      <td>Illinois</td>\n",
              "      <td>60653</td>\n",
              "      <td>Central</td>\n",
              "      <td>Office Supplies</td>\n",
              "      <td>Binders</td>\n",
              "      <td>3.564</td>\n",
              "      <td>3</td>\n",
              "      <td>0.8</td>\n",
              "      <td>-6.2370</td>\n",
              "    </tr>\n",
              "  </tbody>\n",
              "</table>\n",
              "</div>"
            ],
            "text/plain": [
              "           Ship Mode      Segment        Country  ... Quantity Discount   Profit\n",
              "950   Standard Class  Home Office  United States  ...        3      0.2   5.4432\n",
              "3406  Standard Class  Home Office  United States  ...        2      0.3 -12.0588\n",
              "3670  Standard Class     Consumer  United States  ...        2      0.2   3.6288\n",
              "4117  Standard Class     Consumer  United States  ...        3      0.0   9.3312\n",
              "4553  Standard Class     Consumer  United States  ...        3      0.0   5.7780\n",
              "5905        Same Day  Home Office  United States  ...        4      0.0  19.8720\n",
              "6146  Standard Class    Corporate  United States  ...        4      0.0   3.1752\n",
              "6334  Standard Class     Consumer  United States  ...        4      0.0  23.0864\n",
              "6357  Standard Class    Corporate  United States  ...        4      0.0  12.4416\n",
              "7608  Standard Class     Consumer  United States  ...        4      0.0  12.4416\n",
              "7735  Standard Class    Corporate  United States  ...        3      0.0   9.3312\n",
              "7759  Standard Class    Corporate  United States  ...        3      0.2   5.4432\n",
              "8032     First Class     Consumer  United States  ...        3      0.2  16.1838\n",
              "8095    Second Class     Consumer  United States  ...        2      0.0   6.2208\n",
              "9262  Standard Class     Consumer  United States  ...        3      0.0  35.0973\n",
              "9363  Standard Class  Home Office  United States  ...        3      0.0   6.4206\n",
              "9477    Second Class    Corporate  United States  ...        3      0.8  -6.2370\n",
              "\n",
              "[17 rows x 13 columns]"
            ]
          },
          "metadata": {
            "tags": []
          },
          "execution_count": 13
        }
      ]
    },
    {
      "cell_type": "code",
      "metadata": {
        "id": "M9_xzjb8VNPh"
      },
      "source": [
        "# Remove duplicate values\n",
        "store_df.drop_duplicates(inplace=True)\n",
        "\n"
      ],
      "execution_count": null,
      "outputs": []
    },
    {
      "cell_type": "code",
      "metadata": {
        "colab": {
          "base_uri": "https://localhost:8080/"
        },
        "id": "vqyPYLF3WEuG",
        "outputId": "b5beb24d-e48c-44f5-95f2-29d22de74ea7"
      },
      "source": [
        "# Checking shape after removing duplicate value\n",
        "store_df.shape"
      ],
      "execution_count": null,
      "outputs": [
        {
          "output_type": "execute_result",
          "data": {
            "text/plain": [
              "(9977, 13)"
            ]
          },
          "metadata": {
            "tags": []
          },
          "execution_count": 17
        }
      ]
    },
    {
      "cell_type": "code",
      "metadata": {
        "colab": {
          "base_uri": "https://localhost:8080/"
        },
        "id": "PrX8JbM9WwWJ",
        "outputId": "38bf1656-04a6-4499-a92b-7ff392369ab1"
      },
      "source": [
        "# Checking duplicate values again\n",
        "store_df.duplicated().sum()"
      ],
      "execution_count": null,
      "outputs": [
        {
          "output_type": "execute_result",
          "data": {
            "text/plain": [
              "0"
            ]
          },
          "metadata": {
            "tags": []
          },
          "execution_count": 18
        }
      ]
    },
    {
      "cell_type": "markdown",
      "metadata": {
        "id": "wS4B7M9liGTq"
      },
      "source": [
        "# **Number of Elements in Attributes of Data set**"
      ]
    },
    {
      "cell_type": "code",
      "metadata": {
        "colab": {
          "base_uri": "https://localhost:8080/"
        },
        "id": "VszIGK8ZisPV",
        "outputId": "30d165d2-ba62-4d1b-89ea-a8e4f9dec423"
      },
      "source": [
        "store_df['Ship Mode'].value_counts()"
      ],
      "execution_count": null,
      "outputs": [
        {
          "output_type": "execute_result",
          "data": {
            "text/plain": [
              "Standard Class    5955\n",
              "Second Class      1943\n",
              "First Class       1537\n",
              "Same Day           542\n",
              "Name: Ship Mode, dtype: int64"
            ]
          },
          "metadata": {
            "tags": []
          },
          "execution_count": 25
        }
      ]
    },
    {
      "cell_type": "code",
      "metadata": {
        "colab": {
          "base_uri": "https://localhost:8080/"
        },
        "id": "CIYtCN02jIRh",
        "outputId": "c8417d02-3a2a-4d73-da01-ed2a196ac3fd"
      },
      "source": [
        "store_df['Segment'].value_counts()"
      ],
      "execution_count": null,
      "outputs": [
        {
          "output_type": "execute_result",
          "data": {
            "text/plain": [
              "Consumer       5183\n",
              "Corporate      3015\n",
              "Home Office    1779\n",
              "Name: Segment, dtype: int64"
            ]
          },
          "metadata": {
            "tags": []
          },
          "execution_count": 26
        }
      ]
    },
    {
      "cell_type": "code",
      "metadata": {
        "colab": {
          "base_uri": "https://localhost:8080/"
        },
        "id": "HyE7Rf3LjV_9",
        "outputId": "3b17ae89-b8cf-44a7-ae06-7a32253d9096"
      },
      "source": [
        "store_df['Country'].value_counts()"
      ],
      "execution_count": null,
      "outputs": [
        {
          "output_type": "execute_result",
          "data": {
            "text/plain": [
              "United States    9977\n",
              "Name: Country, dtype: int64"
            ]
          },
          "metadata": {
            "tags": []
          },
          "execution_count": 27
        }
      ]
    },
    {
      "cell_type": "code",
      "metadata": {
        "colab": {
          "base_uri": "https://localhost:8080/"
        },
        "id": "N_wBGXMLjjhN",
        "outputId": "84d9f38c-55fd-4199-ec08-f984f4fb6c8c"
      },
      "source": [
        "store_df['City'].value_counts()"
      ],
      "execution_count": null,
      "outputs": [
        {
          "output_type": "execute_result",
          "data": {
            "text/plain": [
              "New York City     914\n",
              "Los Angeles       746\n",
              "Philadelphia      536\n",
              "San Francisco     506\n",
              "Seattle           424\n",
              "                 ... \n",
              "Jefferson City      1\n",
              "Jupiter             1\n",
              "Cheyenne            1\n",
              "Goldsboro           1\n",
              "Davis               1\n",
              "Name: City, Length: 531, dtype: int64"
            ]
          },
          "metadata": {
            "tags": []
          },
          "execution_count": 28
        }
      ]
    },
    {
      "cell_type": "code",
      "metadata": {
        "colab": {
          "base_uri": "https://localhost:8080/"
        },
        "id": "s5TGLmQdj6Ct",
        "outputId": "044bba46-7708-4f83-892f-f083559cfd6e"
      },
      "source": [
        "store_df['State'].value_counts()"
      ],
      "execution_count": null,
      "outputs": [
        {
          "output_type": "execute_result",
          "data": {
            "text/plain": [
              "California              1996\n",
              "New York                1127\n",
              "Texas                    983\n",
              "Pennsylvania             586\n",
              "Washington               502\n",
              "Illinois                 491\n",
              "Ohio                     468\n",
              "Florida                  383\n",
              "Michigan                 254\n",
              "North Carolina           249\n",
              "Arizona                  224\n",
              "Virginia                 224\n",
              "Georgia                  184\n",
              "Tennessee                183\n",
              "Colorado                 182\n",
              "Indiana                  149\n",
              "Kentucky                 139\n",
              "Massachusetts            135\n",
              "New Jersey               130\n",
              "Oregon                   123\n",
              "Wisconsin                110\n",
              "Maryland                 105\n",
              "Delaware                  96\n",
              "Minnesota                 89\n",
              "Connecticut               82\n",
              "Missouri                  66\n",
              "Oklahoma                  66\n",
              "Alabama                   61\n",
              "Arkansas                  60\n",
              "Rhode Island              56\n",
              "Mississippi               53\n",
              "Utah                      53\n",
              "Louisiana                 42\n",
              "South Carolina            42\n",
              "Nevada                    39\n",
              "Nebraska                  38\n",
              "New Mexico                37\n",
              "Iowa                      30\n",
              "New Hampshire             27\n",
              "Kansas                    24\n",
              "Idaho                     21\n",
              "Montana                   15\n",
              "South Dakota              12\n",
              "Vermont                   11\n",
              "District of Columbia      10\n",
              "Maine                      8\n",
              "North Dakota               7\n",
              "West Virginia              4\n",
              "Wyoming                    1\n",
              "Name: State, dtype: int64"
            ]
          },
          "metadata": {
            "tags": []
          },
          "execution_count": 29
        }
      ]
    },
    {
      "cell_type": "code",
      "metadata": {
        "colab": {
          "base_uri": "https://localhost:8080/"
        },
        "id": "USjLXXRDkC8q",
        "outputId": "36e896ad-05e2-493a-9df2-4dd119a4c28b"
      },
      "source": [
        "store_df['Region'].value_counts()"
      ],
      "execution_count": null,
      "outputs": [
        {
          "output_type": "execute_result",
          "data": {
            "text/plain": [
              "West       3193\n",
              "East       2845\n",
              "Central    2319\n",
              "South      1620\n",
              "Name: Region, dtype: int64"
            ]
          },
          "metadata": {
            "tags": []
          },
          "execution_count": 30
        }
      ]
    },
    {
      "cell_type": "code",
      "metadata": {
        "colab": {
          "base_uri": "https://localhost:8080/"
        },
        "id": "uGI2UFg7kMtW",
        "outputId": "4f9d007c-f714-4ee4-9d0a-97b6692bd85e"
      },
      "source": [
        "store_df['Category'].value_counts()"
      ],
      "execution_count": null,
      "outputs": [
        {
          "output_type": "execute_result",
          "data": {
            "text/plain": [
              "Office Supplies    6012\n",
              "Furniture          2118\n",
              "Technology         1847\n",
              "Name: Category, dtype: int64"
            ]
          },
          "metadata": {
            "tags": []
          },
          "execution_count": 31
        }
      ]
    },
    {
      "cell_type": "code",
      "metadata": {
        "colab": {
          "base_uri": "https://localhost:8080/"
        },
        "id": "KQZy0AcTkTlN",
        "outputId": "b5c025fa-4b39-4a94-90e0-074e0e668ac6"
      },
      "source": [
        "store_df['Sub-Category'].value_counts()"
      ],
      "execution_count": null,
      "outputs": [
        {
          "output_type": "execute_result",
          "data": {
            "text/plain": [
              "Binders        1522\n",
              "Paper          1359\n",
              "Furnishings     956\n",
              "Phones          889\n",
              "Storage         846\n",
              "Art             795\n",
              "Accessories     775\n",
              "Chairs          615\n",
              "Appliances      466\n",
              "Labels          363\n",
              "Tables          319\n",
              "Envelopes       254\n",
              "Bookcases       228\n",
              "Fasteners       217\n",
              "Supplies        190\n",
              "Machines        115\n",
              "Copiers          68\n",
              "Name: Sub-Category, dtype: int64"
            ]
          },
          "metadata": {
            "tags": []
          },
          "execution_count": 32
        }
      ]
    },
    {
      "cell_type": "markdown",
      "metadata": {
        "id": "ha7ga440lwYa"
      },
      "source": [
        "# **Data Visualization**"
      ]
    },
    {
      "cell_type": "code",
      "metadata": {
        "colab": {
          "base_uri": "https://localhost:8080/",
          "height": 541
        },
        "id": "RAC-WE63nhpi",
        "outputId": "6d7c5f1b-5671-4ade-99d0-02c4267caaf1"
      },
      "source": [
        "# Finding the correlations\n",
        "plt.figure(figsize=(9,9))\n",
        "sns.heatmap(store_df.corr(),annot = True)\n",
        "plt.show()"
      ],
      "execution_count": null,
      "outputs": [
        {
          "output_type": "display_data",
          "data": {
            "image/png": "[encoded data removed]",
            "text/plain": [
              "<Figure size 648x648 with 2 Axes>"
            ]
          },
          "metadata": {
            "tags": [],
            "needs_background": "light"
          }
        }
      ]
    },
    {
      "cell_type": "code",
      "metadata": {
        "colab": {
          "base_uri": "https://localhost:8080/",
          "height": 500
        },
        "id": "HqO_ePVYnt63",
        "outputId": "e50251cb-5ada-4260-946f-ed308569002b"
      },
      "source": [
        "plt.figure(figsize=(10,8))\n",
        "sns.barplot(x = 'Region',y = 'Profit', hue='Category',data = store_df)\n",
        "plt.show()"
      ],
      "execution_count": null,
      "outputs": [
        {
          "output_type": "display_data",
          "data": {
            "image/png": "[encoded data removed]",
            "text/plain": [
              "<Figure size 720x576 with 1 Axes>"
            ]
          },
          "metadata": {
            "tags": [],
            "needs_background": "light"
          }
        }
      ]
    },
    {
      "cell_type": "markdown",
      "metadata": {
        "id": "Zjx_kj1guuUz"
      },
      "source": [
        "In this graph we can see the distribution of the profit for different categories,now we can see the lowest profit of furniture is from Central Zone, then it is the East Zone, then the West Zone and the South Zone"
      ]
    },
    {
      "cell_type": "code",
      "metadata": {
        "colab": {
          "base_uri": "https://localhost:8080/",
          "height": 497
        },
        "id": "dELUyil1qmGm",
        "outputId": "162ca68a-7f63-419d-8619-f92876054dc2"
      },
      "source": [
        "plt.figure(figsize=(10,8))\n",
        "sns.barplot(x = 'Region',y = 'Sales', hue='Category',data = store_df)\n",
        "plt.show()"
      ],
      "execution_count": null,
      "outputs": [
        {
          "output_type": "display_data",
          "data": {
            "image/png": "[encoded data removed]",
            "text/plain": [
              "<Figure size 720x576 with 1 Axes>"
            ]
          },
          "metadata": {
            "tags": [],
            "needs_background": "light"
          }
        }
      ]
    },
    {
      "cell_type": "markdown",
      "metadata": {
        "id": "0sJ-7lSbxotI"
      },
      "source": [
        "In this graph the sales of the region we can see the sales of furniture is more than the office supplies, but the profit is very less as compared to office supplies"
      ]
    },
    {
      "cell_type": "code",
      "metadata": {
        "colab": {
          "base_uri": "https://localhost:8080/",
          "height": 537
        },
        "id": "Xq-VhPRvxePv",
        "outputId": "9e4037fb-44d1-44ed-f1ca-82a0b4b6788c"
      },
      "source": [
        "plt.figure(figsize=(9,9))\n",
        "store_df.groupby('Region')['Profit'].sum().plot(kind = 'pie',autopct = '%1.1f%%')\n"
      ],
      "execution_count": null,
      "outputs": [
        {
          "output_type": "execute_result",
          "data": {
            "text/plain": [
              "<matplotlib.axes._subplots.AxesSubplot at 0x7f27cd800450>"
            ]
          },
          "metadata": {
            "tags": []
          },
          "execution_count": 52
        },
        {
          "output_type": "display_data",
          "data": {
            "image/png": "[encoded data removed]",
            "text/plain": [
              "<Figure size 648x648 with 1 Axes>"
            ]
          },
          "metadata": {
            "tags": []
          }
        }
      ]
    },
    {
      "cell_type": "markdown",
      "metadata": {
        "id": "yweTXF7W1Bf1"
      },
      "source": [
        "In this pie chart, we can see the percent of the overall sales in the different regions from which it is inferred that the central zone has the lowest sales among the other zones and the East zones is the highest zones."
      ]
    },
    {
      "cell_type": "code",
      "metadata": {
        "colab": {
          "base_uri": "https://localhost:8080/",
          "height": 415
        },
        "id": "vsP6aXRDzryT",
        "outputId": "223cbcd9-bd8f-402d-afe3-000b55e59a8a"
      },
      "source": [
        "plt.figure(figsize=(11,15))\n",
        "store_df.groupby('Category')['Profit','Sales'].agg(['sum']).plot.bar()\n",
        "plt.show()\n"
      ],
      "execution_count": null,
      "outputs": [
        {
          "output_type": "stream",
          "text": [
            "/usr/local/lib/python3.7/dist-packages/ipykernel_launcher.py:2: FutureWarning: Indexing with multiple keys (implicitly converted to a tuple of keys) will be deprecated, use a list instead.\n",
            "  \n"
          ],
          "name": "stderr"
        },
        {
          "output_type": "display_data",
          "data": {
            "text/plain": [
              "<Figure size 792x1080 with 0 Axes>"
            ]
          },
          "metadata": {
            "tags": []
          }
        },
        {
          "output_type": "display_data",
          "data": {
            "image/png": "[encoded data removed]",
            "text/plain": [
              "<Figure size 432x288 with 1 Axes>"
            ]
          },
          "metadata": {
            "tags": [],
            "needs_background": "light"
          }
        }
      ]
    },
    {
      "cell_type": "markdown",
      "metadata": {
        "id": "fKbqVvhIGrOM"
      },
      "source": [
        "# **Conclusion**\n",
        "1. The cities or states which gives more discount on product shows more sales but very less profit\n",
        "\n",
        "2. West region shows more sales & more profit where central region show less sales and profit \n",
        "\n",
        "3. Sub-category shows more profit and table shows less profit\n",
        "\n",
        "4. In states show high profit ratio in New York and california and the less profit ratio is Ohlo and Texas"
      ]
    }
  ]
}